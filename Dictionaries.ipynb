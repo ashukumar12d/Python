{
 "cells": [
  {
   "cell_type": "markdown",
   "metadata": {},
   "source": [
    "# Dictionaries "
   ]
  },
  {
   "cell_type": "markdown",
   "metadata": {
    "collapsed": true
   },
   "source": [
    "### Merging Dictionaries (Ques.21a) "
   ]
  },
  {
   "cell_type": "code",
   "execution_count": 7,
   "metadata": {},
   "outputs": [
    {
     "data": {
      "text/plain": [
       "{1: 'Ashish', 2: 'Kumar', 3: 'Ram', 4: 'Nikhil', 5: 'Bhaskar', 6: 'Sham'}"
      ]
     },
     "execution_count": 7,
     "metadata": {},
     "output_type": "execute_result"
    }
   ],
   "source": [
    "dict1 = {1:'Ashish', 2:'Kumar', 3:'Ram'}\n",
    "\n",
    "dict2 = {4:'Nikhil', 5:'Bhaskar', 6:'Sham'}\n",
    "\n",
    "dict1.update(dict2)\n",
    "dict1\n"
   ]
  },
  {
   "cell_type": "markdown",
   "metadata": {},
   "source": [
    "### Favourite Colours (Ques.21b)"
   ]
  },
  {
   "cell_type": "code",
   "execution_count": 24,
   "metadata": {},
   "outputs": [
    {
     "data": {
      "text/plain": [
       "4"
      ]
     },
     "execution_count": 24,
     "metadata": {},
     "output_type": "execute_result"
    }
   ],
   "source": [
    "people = {'Lisa':'Yellow','Arham':'Blue','Vinod':'Purple','Jenny':'Pink'}\n",
    "\n",
    "# Number of students in dictionaries\n",
    "\n",
    "len(people)"
   ]
  },
  {
   "cell_type": "code",
   "execution_count": 25,
   "metadata": {},
   "outputs": [
    {
     "data": {
      "text/plain": [
       "[('Arham', 'Blue'), ('Lisa', 'Orange'), ('Vinod', 'Purple')]"
      ]
     },
     "execution_count": 25,
     "metadata": {},
     "output_type": "execute_result"
    }
   ],
   "source": [
    "# Changing the colour\n",
    "\n",
    "people['Lisa'] = 'Orange'\n",
    "people\n",
    "\n",
    "# deleting a value\n",
    "\n",
    "del people['Jenny']\n",
    "people\n",
    "\n",
    "# sorting\n",
    "\n",
    "sorted(people.items())"
   ]
  },
  {
   "cell_type": "markdown",
   "metadata": {},
   "source": [
    "### Frequency Listing (Ques.22) "
   ]
  },
  {
   "cell_type": "code",
   "execution_count": 2,
   "metadata": {},
   "outputs": [
    {
     "name": "stdout",
     "output_type": "stream",
     "text": [
      "Plese input a string\n",
      "yo yo yo yoy o\n",
      "{'y': 5, 'o': 5, ' ': 4}\n"
     ]
    }
   ],
   "source": [
    "x = input(\"Plese input a string\\n\")     # user inputs a string\n",
    "\n",
    "freq = {}                                # initialising empty final dictionary \n",
    "\n",
    "for i in x:\n",
    "    freq.update( { i : x.count(i) } )     # updates dictionary with word as key and frequency as value\n",
    "    \n",
    "print(freq)                               # prints the updated dictionary\n",
    "    "
   ]
  },
  {
   "cell_type": "markdown",
   "metadata": {},
   "source": [
    "### German to English"
   ]
  },
  {
   "cell_type": "code",
   "execution_count": 1,
   "metadata": {},
   "outputs": [
    {
     "name": "stdout",
     "output_type": "stream",
     "text": [
      "from ice liberated are river and brooks "
     ]
    }
   ],
   "source": [
    "German_Dict = {\"befreit\":\"liberated\", \"baeche\":\"brooks\", \"eise\":\"ice\", \"sind\":\"are\",\n",
    "\"strom\":\"river\", \"und\":\"and\", \"vom\":\"from\"}\n",
    "\n",
    "inpstr = \"vom eise befreit sind strom und baeche\"\n",
    "\n",
    "for i in inpstr.split():                   # iterating on splitted input string\n",
    "    \n",
    "    print(German_Dict.get(i), end = ' ')    # getting the value for the key from input string"
   ]
  }
 ],
 "metadata": {
  "kernelspec": {
   "display_name": "Python 3",
   "language": "python",
   "name": "python3"
  },
  "language_info": {
   "codemirror_mode": {
    "name": "ipython",
    "version": 3
   },
   "file_extension": ".py",
   "mimetype": "text/x-python",
   "name": "python",
   "nbconvert_exporter": "python",
   "pygments_lexer": "ipython3",
   "version": "3.6.2"
  }
 },
 "nbformat": 4,
 "nbformat_minor": 2
}
