{
 "cells": [
  {
   "cell_type": "markdown",
   "metadata": {},
   "source": [
    "# Functions "
   ]
  },
  {
   "cell_type": "markdown",
   "metadata": {},
   "source": [
    "### 24. Overlapping"
   ]
  },
  {
   "cell_type": "markdown",
   "metadata": {},
   "source": [
    "##### Predefined Lists"
   ]
  },
  {
   "cell_type": "code",
   "execution_count": 1,
   "metadata": {
    "collapsed": true
   },
   "outputs": [],
   "source": [
    "List1 = [25, 69, 87, 34]\n",
    "list2 = [98, 36, 54, 35]"
   ]
  },
  {
   "cell_type": "code",
   "execution_count": 2,
   "metadata": {
    "collapsed": true
   },
   "outputs": [],
   "source": [
    "def overlapping(l1, l2):\n",
    "    \n",
    "    '''Function for finding if there is atleast one common elemnt in two lists'''\n",
    "    \n",
    "    flag = 0\n",
    "    \n",
    "    for i in l1:   \n",
    "        \n",
    "        if i in l2:                # if elemnt of list1 in list2 set flag to 1\n",
    "            \n",
    "            flag = 1\n",
    "            break\n",
    "            \n",
    "        else:\n",
    "            flag = 0\n",
    "            \n",
    "    if flag == 1:              #if flag is 1 print True\n",
    "        print(\"True\")\n",
    "        \n",
    "    else:\n",
    "        print(\"False\")"
   ]
  },
  {
   "cell_type": "code",
   "execution_count": 3,
   "metadata": {},
   "outputs": [
    {
     "name": "stdout",
     "output_type": "stream",
     "text": [
      "False\n"
     ]
    }
   ],
   "source": [
    "overlapping(List1, list2)"
   ]
  },
  {
   "cell_type": "markdown",
   "metadata": {},
   "source": [
    "### 25. Printing length of longest word"
   ]
  },
  {
   "cell_type": "code",
   "execution_count": 12,
   "metadata": {
    "collapsed": true
   },
   "outputs": [],
   "source": [
    "listOfWords = [\"pikachu\", \"charmeleon\", \"charizard\", \"arbock\", \"chikorita\"]"
   ]
  },
  {
   "cell_type": "code",
   "execution_count": 10,
   "metadata": {
    "collapsed": true
   },
   "outputs": [],
   "source": [
    "def find_longest_word(lyst):\n",
    "    \n",
    "    ''' Function for finding the length of longest word in a list'''\n",
    "    length = []\n",
    "    \n",
    "    for i in lyst:                     # append the length of words in a new list\n",
    "        length.append(len(i))\n",
    "    \n",
    "    \n",
    "    return max(length)     # find the maximum length i.e longest word length\n"
   ]
  },
  {
   "cell_type": "code",
   "execution_count": 13,
   "metadata": {},
   "outputs": [
    {
     "data": {
      "text/plain": [
       "13"
      ]
     },
     "execution_count": 13,
     "metadata": {},
     "output_type": "execute_result"
    }
   ],
   "source": [
    "find_longest_word(listOfWords)"
   ]
  },
  {
   "cell_type": "markdown",
   "metadata": {},
   "source": [
    "### 26. Coversion to participle form"
   ]
  },
  {
   "cell_type": "code",
   "execution_count": 13,
   "metadata": {
    "collapsed": true
   },
   "outputs": [],
   "source": [
    "ing = \"ing\"\n",
    "vow = ['a', 'e', 'i', 'o', 'u']\n",
    "\n",
    "def  make_ing_form(verb):\n",
    "    \n",
    "    '''function for converting a word into its participle form'''\n",
    "    \n",
    "    if verb[-1] == 'e' and verb[-2] != 'e' and verb != \"be\" and verb[-2] != 'i':\n",
    "        return verb[0:-1]+ing\n",
    "    \n",
    "    elif verb[-1] == 'e' and verb[-2] != 'i' or verb == \"be\":\n",
    "        return verb+ing\n",
    "    \n",
    "    elif verb[-2:] == 'ie':\n",
    "        return verb[:-2]+'y'+ing\n",
    "    \n",
    "    elif len(verb) > 2 and verb[-3] not in vow and verb[-2] in vow and verb[-1] not in vow:\n",
    "        return verb + verb[-1] + ing\n",
    "    \n",
    "    else:\n",
    "        return verb + ing"
   ]
  },
  {
   "cell_type": "code",
   "execution_count": 14,
   "metadata": {},
   "outputs": [
    {
     "name": "stdout",
     "output_type": "stream",
     "text": [
      "Please enter a word: die\n"
     ]
    },
    {
     "data": {
      "text/plain": [
       "'dying'"
      ]
     },
     "execution_count": 14,
     "metadata": {},
     "output_type": "execute_result"
    }
   ],
   "source": [
    "make_ing_form(input(\"Please enter a word: \"))"
   ]
  }
 ],
 "metadata": {
  "kernelspec": {
   "display_name": "Python 3",
   "language": "python",
   "name": "python3"
  },
  "language_info": {
   "codemirror_mode": {
    "name": "ipython",
    "version": 3
   },
   "file_extension": ".py",
   "mimetype": "text/x-python",
   "name": "python",
   "nbconvert_exporter": "python",
   "pygments_lexer": "ipython3",
   "version": "3.6.2"
  }
 },
 "nbformat": 4,
 "nbformat_minor": 2
}
