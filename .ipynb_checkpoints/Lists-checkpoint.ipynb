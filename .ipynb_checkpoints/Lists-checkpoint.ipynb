{
 "cells": [
  {
   "cell_type": "markdown",
   "metadata": {},
   "source": [
    "# Lists"
   ]
  },
  {
   "cell_type": "markdown",
   "metadata": {},
   "source": [
    "### Nums (Ques.16) "
   ]
  },
  {
   "cell_type": "code",
   "execution_count": null,
   "metadata": {
    "collapsed": true
   },
   "outputs": [],
   "source": [
    "# using while loop\n",
    "\n",
    "Nums = [20,30,10,50,60,90]\n",
    "a = 0 \n",
    "add = 0\n",
    "\n",
    "while a < len(Nums):\n",
    "    add = add + Nums[a]\n",
    "    a = a + 1\n",
    "\n",
    "print(add)"
   ]
  },
  {
   "cell_type": "code",
   "execution_count": null,
   "metadata": {
    "collapsed": true
   },
   "outputs": [],
   "source": [
    "# using for loop\n",
    "\n",
    "add = 0\n",
    "\n",
    "for i in Nums:\n",
    "    add += i\n",
    "    \n",
    "print(add)    "
   ]
  },
  {
   "cell_type": "code",
   "execution_count": null,
   "metadata": {
    "collapsed": true
   },
   "outputs": [],
   "source": [
    "# using for and indices\n",
    "add = 0\n",
    "\n",
    "for i in range(0,len(Nums)):\n",
    "    add += Nums[i]\n",
    "    \n",
    "print(add)    "
   ]
  },
  {
   "cell_type": "code",
   "execution_count": null,
   "metadata": {
    "collapsed": true
   },
   "outputs": [],
   "source": [
    "# Backwards items\n",
    "\n",
    "for i in range(len(Nums)-1,-1,-1):\n",
    "    print(Nums[i])\n"
   ]
  },
  {
   "cell_type": "code",
   "execution_count": null,
   "metadata": {
    "collapsed": true
   },
   "outputs": [],
   "source": [
    "# every other elemnt in Nums\n",
    "\n",
    "for i in range(0,len(Nums),2):\n",
    "    print(Nums[i])"
   ]
  },
  {
   "cell_type": "markdown",
   "metadata": {},
   "source": [
    "### Robot Movement (Ques.17) "
   ]
  },
  {
   "cell_type": "code",
   "execution_count": null,
   "metadata": {
    "collapsed": true
   },
   "outputs": [],
   "source": [
    "l=[0,0] # starting point is origin\n",
    "\n",
    "up, down = int(input(\"Enter the up steps\\n\")), int(input(\"Enter the down steps\\n\"))\n",
    "\n",
    "left, right = int(input(\"Enter the left steps\\n\")), int(input(\"Enter the righjt steps\\n\"))\n",
    "\n",
    "l[0] = up - down  # vertical displacement\n",
    "l[1] = left - right   # horizontal displacement\n",
    "\n",
    "dist = int(( l[0] ** 2 + l[1] ** 2) **0.5)\n",
    "\n",
    "print(\"The distance travelled from origin is = \",dist, \"units\")\n"
   ]
  },
  {
   "cell_type": "markdown",
   "metadata": {},
   "source": [
    "### Passwords Check (Ques.18) "
   ]
  },
  {
   "cell_type": "code",
   "execution_count": null,
   "metadata": {
    "collapsed": true
   },
   "outputs": [],
   "source": [
    "l = input(\"Input the passwords separated by comma.\\n\") #user input passwords\n",
    "\n",
    "eachp = l.split(\",\")  # getting each password separately\n",
    "\n",
    "flist=[]   # empty list to store final valid passwords\n",
    "count=0    # counter to validate passwords\n",
    "\n",
    "loweral = \"abcdefghijklmnopqrstuvwxyz\"    # string to check lowercase alphabets\n",
    "upperal = loweral.upper()                 # string to check upper case alphabets\n",
    "nums = [0,1,2,3,4,5,6,7,8,9]              # list to check numbers\n",
    "sym = ['$','@','#']                       # list to check symbols\n",
    "\n",
    "for i in eachp:                    # for each password in the list      \n",
    "    \n",
    "    if len(i)>6 and len(i)<12:     # checking the length\n",
    "        \n",
    "        for j in i:                # for each character in the password\n",
    "            \n",
    "            if j in loweral:       # check if its lowercase\n",
    "                count += 1\n",
    "                \n",
    "            if j in upperal:        # check if its upper case\n",
    "                count += 1\n",
    "                \n",
    "            if j in nums:            # check if its a number\n",
    "                count += 1\n",
    "                \n",
    "            if j in sym:            # check if its a symbol\n",
    "                count += 1\n",
    "                \n",
    "                if count >= 4:\n",
    "                    flist.append(i)\n",
    "        \n",
    "       \n",
    "                \n",
    "    else:\n",
    "        continue\n",
    "        \n",
    "        \n",
    "print(\"Valid Passwords are :\", flist)     # print the final list of valid passwords   \n",
    "        \n",
    "    \n",
    "        \n",
    " \n",
    "\n"
   ]
  },
  {
   "cell_type": "markdown",
   "metadata": {},
   "source": [
    "## Additional Exercises"
   ]
  },
  {
   "cell_type": "markdown",
   "metadata": {},
   "source": [
    "### (A) "
   ]
  },
  {
   "cell_type": "code",
   "execution_count": null,
   "metadata": {
    "collapsed": true
   },
   "outputs": [],
   "source": [
    "list1 = [123, 24.5, 'Ashish', 234, ['Ashish', 1234], ['Kumar',12]]\n",
    "\n",
    "for i in list1:\n",
    "    \n",
    "    if type(i) == list:              # if the type of element is list print the index of element\n",
    "        \n",
    "        print(\"The index of the nested list is :\\n\",list1.index(i))"
   ]
  },
  {
   "cell_type": "markdown",
   "metadata": {},
   "source": [
    "### (B)"
   ]
  },
  {
   "cell_type": "code",
   "execution_count": 2,
   "metadata": {
    "collapsed": true
   },
   "outputs": [
    {
     "name": "stdout",
     "output_type": "stream",
     "text": [
      "['audino', 'bagon', 'nosepass', 'baltoy', 'yamask', 'banette', 'emboar', 'emolga', 'exeggcute', 'bidoof', 'braviary', 'bronzor', 'registeel', 'relicanth', 'remoraid', 'rufflet', 'carracosta', 'charmeleon', 'cresselia', 'croagunk', 'kangaskhan', 'kricketune', 'darmanitan', 'deino', 'gabitegirafarig', 'gulpin', 'haxorus', 'sableye', 'scolipede', 'scrafty', 'seakingsealeo', 'silcoon', 'simisear', 'snivy', 'snorlax', 'spoink', 'starly', 'heatmor', 'heatran', 'ivysaur', 'jellicent', 'tirtouga', 'trapinch', 'treeckotyrogue', 'jumpluff', 'landorus', 'ledyba', 'loudred', 'lumineon', 'lunatone', 'machamp', 'petilil', 'pidgeotto', 'pikachu', 'pinsir', 'poliwrath', 'poochyena', 'porygon2porygonz', 'magnezone', 'mamoswine', 'vigoroth', 'vulpix', 'wailord', 'wartortle', 'whismur', 'wingull']\n"
     ]
    }
   ],
   "source": [
    "poke = ['audino', 'bagon', 'baltoy', 'banette', 'bidoof', 'braviary', 'bronzor', 'carracosta',\n",
    "'charmeleon','cresselia', 'croagunk', 'darmanitan', 'deino', 'emboar', 'emolga', 'exeggcute',\n",
    "'gabitegirafarig', 'gulpin', 'haxorus', 'heatmor', 'heatran', 'ivysaur', 'jellicent',\n",
    "'jumpluff', 'kangaskhan','kricketune', 'landorus', 'ledyba', 'loudred', 'lumineon', 'lunatone',\n",
    "'machamp', 'magnezone', 'mamoswine','nosepass', 'petilil', 'pidgeotto', 'pikachu', 'pinsir',\n",
    "'poliwrath', 'poochyena', 'porygon2porygonz', 'registeel', 'relicanth', 'remoraid',\n",
    "'rufflet', 'sableye', 'scolipede', 'scrafty', 'seakingsealeo', 'silcoon', 'simisear', 'snivy',\n",
    "'snorlax', 'spoink', 'starly', 'tirtouga', 'trapinch', 'treeckotyrogue', 'vigoroth', 'vulpix',\n",
    "'wailord', 'wartortle', 'whismur', 'wingull', 'yamask']\n",
    "\n",
    "\n",
    "elimlist = []\n",
    "antakshrilist = []\n",
    "\n",
    "for i in poke:\n",
    "    \n",
    "    if i not in elimlist:\n",
    "        antakshrilist.append(i)\n",
    "        elimlist.append(i)\n",
    "        \n",
    "        for k in poke:\n",
    "            \n",
    "            if k[0] == i[-1] and k not in elimlist:\n",
    "                antakshrilist.append(k)\n",
    "                elimlist.append(k)\n",
    "                \n",
    "                \n",
    "                \n",
    "                \n",
    "                \n",
    "                \n",
    "print(antakshrilist) "
   ]
  },
  {
   "cell_type": "code",
   "execution_count": 8,
   "metadata": {},
   "outputs": [
    {
     "name": "stdout",
     "output_type": "stream",
     "text": [
      "yamask\n",
      "kangaskhan\n",
      "nosepass\n",
      "sableye\n"
     ]
    }
   ],
   "source": [
    "elim = []\n",
    "all = poke.copy()\n",
    "temp = \"yamask\"\n",
    "print(temp)\n",
    "for i in poke:\n",
    "    if temp[-1] == i[0]:\n",
    "        print(i)\n",
    "        temp = i"
   ]
  },
  {
   "cell_type": "code",
   "execution_count": null,
   "metadata": {
    "collapsed": true
   },
   "outputs": [],
   "source": [
    "l1=['Ashish','Honey']\n",
    "l2=l1[0]\n",
    "l3=l2[0]\n"
   ]
  }
 ],
 "metadata": {
  "kernelspec": {
   "display_name": "Python 3",
   "language": "python",
   "name": "python3"
  },
  "language_info": {
   "codemirror_mode": {
    "name": "ipython",
    "version": 3
   },
   "file_extension": ".py",
   "mimetype": "text/x-python",
   "name": "python",
   "nbconvert_exporter": "python",
   "pygments_lexer": "ipython3",
   "version": "3.6.2"
  }
 },
 "nbformat": 4,
 "nbformat_minor": 2
}
