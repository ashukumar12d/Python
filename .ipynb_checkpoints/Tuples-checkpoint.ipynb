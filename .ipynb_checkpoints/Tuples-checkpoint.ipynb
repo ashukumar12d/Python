{
 "cells": [
  {
   "cell_type": "markdown",
   "metadata": {},
   "source": [
    "# Tuples "
   ]
  },
  {
   "cell_type": "markdown",
   "metadata": {},
   "source": [
    "### Operations on Tuples (Ques. 19)"
   ]
  },
  {
   "cell_type": "code",
   "execution_count": 8,
   "metadata": {},
   "outputs": [
    {
     "name": "stdout",
     "output_type": "stream",
     "text": [
      "Ashish\n",
      "Nikhil\n",
      "Sourav\n",
      "Debjit\n"
     ]
    },
    {
     "data": {
      "text/plain": [
       "['__add__',\n",
       " '__class__',\n",
       " '__contains__',\n",
       " '__delattr__',\n",
       " '__dir__',\n",
       " '__doc__',\n",
       " '__eq__',\n",
       " '__format__',\n",
       " '__ge__',\n",
       " '__getattribute__',\n",
       " '__getitem__',\n",
       " '__getnewargs__',\n",
       " '__gt__',\n",
       " '__hash__',\n",
       " '__init__',\n",
       " '__init_subclass__',\n",
       " '__iter__',\n",
       " '__le__',\n",
       " '__len__',\n",
       " '__lt__',\n",
       " '__mul__',\n",
       " '__ne__',\n",
       " '__new__',\n",
       " '__reduce__',\n",
       " '__reduce_ex__',\n",
       " '__repr__',\n",
       " '__rmul__',\n",
       " '__setattr__',\n",
       " '__sizeof__',\n",
       " '__str__',\n",
       " '__subclasshook__',\n",
       " 'count',\n",
       " 'index']"
      ]
     },
     "execution_count": 8,
     "metadata": {},
     "output_type": "execute_result"
    }
   ],
   "source": [
    "# creation of tuple \n",
    "\n",
    "names = ('Ashish', 'Nikhil', 'Sourav', 'Debjit')\n",
    "\n",
    "# Printing the elements\n",
    "\n",
    "for i in names:\n",
    "    print(i)\n",
    "    \n",
    "# length ofthe tuple\n",
    "\n",
    "len(names)\n",
    "\n",
    "# appending/inserting in tuples\n",
    "\n",
    "#names.append('Sachin')\n",
    "#names.insert('Ravi')\n",
    "\n",
    "# deleting an element\n",
    "\n",
    "#del names[2]\n",
    "\n",
    "# deleting the tuple\n",
    "\n",
    "del names\n",
    "#names\n",
    "\n",
    "# methods in tuple\n",
    "\n",
    "dir(tuple)"
   ]
  },
  {
   "cell_type": "markdown",
   "metadata": {
    "collapsed": true
   },
   "source": [
    "### Book Popularity (Ques.20)"
   ]
  },
  {
   "cell_type": "code",
   "execution_count": 6,
   "metadata": {},
   "outputs": [
    {
     "name": "stdout",
     "output_type": "stream",
     "text": [
      "2\n"
     ]
    }
   ],
   "source": [
    "user1 = ((1,101,5.0), (1,102,3.0), (1,103,2.5))\n",
    "user2 = ((2,101,2.0), (2,102,2.5), (2,103,5.0), (2,104,2.0))\n",
    "user3 = ((3,101,2.5), (3,102,4.0), (3,103,4.5), (3,104,5.0))\n",
    "\n",
    "avgbook1 = ( (user1[0][2]) + (user2[0][2]) + (user3[0][2]) ) / 3 \n",
    "\n",
    "avgbook2 = ( (user1[1][2]) + (user2[1][2]) + (user3[1][2]) ) / 3 \n",
    "\n",
    "avgbook3 = ( (user1[2][2]) + (user2[2][2]) + (user3[2][2]) ) / 3 \n",
    "\n",
    "avgbook4 = ( (user2[3][2]) + (user3[3][2]) ) / 2 \n",
    "\n",
    "final = (avgbook1,avgbook2,avgbook3,avgbook4)\n",
    "\n",
    "for i in final:\n",
    "    if i == max(final):\n",
    "        print(final.index(i))"
   ]
  },
  {
   "cell_type": "code",
   "execution_count": 7,
   "metadata": {},
   "outputs": [
    {
     "name": "stdout",
     "output_type": "stream",
     "text": [
      "So the most popular book is book at index 2 i.e Book 3\n"
     ]
    }
   ],
   "source": [
    "print(\"So the most popular book is book at index 2 i.e Book 3\")"
   ]
  },
  {
   "cell_type": "markdown",
   "metadata": {},
   "source": [
    "## Additional Exercises "
   ]
  },
  {
   "cell_type": "markdown",
   "metadata": {},
   "source": [
    "###  Prime Number with Tuple Comprehension "
   ]
  },
  {
   "cell_type": "code",
   "execution_count": null,
   "metadata": {
    "collapsed": true
   },
   "outputs": [],
   "source": [
    "nonprime = tuple (j for i in range(2,9) for j in range(i*2,100,i)) # tuple of composite numbers from 2 to 100\n",
    "\n",
    "prime = tuple (p for p in range(2,100) if p not in nonprime)     # tuple of prime numbers\n",
    "\n",
    "prime"
   ]
  }
 ],
 "metadata": {
  "kernelspec": {
   "display_name": "Python 3",
   "language": "python",
   "name": "python3"
  },
  "language_info": {
   "codemirror_mode": {
    "name": "ipython",
    "version": 3
   },
   "file_extension": ".py",
   "mimetype": "text/x-python",
   "name": "python",
   "nbconvert_exporter": "python",
   "pygments_lexer": "ipython3",
   "version": "3.6.2"
  }
 },
 "nbformat": 4,
 "nbformat_minor": 2
}
