{
 "cells": [
  {
   "cell_type": "markdown",
   "metadata": {},
   "source": [
    "# OOPS"
   ]
  },
  {
   "cell_type": "markdown",
   "metadata": {},
   "source": [
    "### Rectangle (Ques. 30)"
   ]
  },
  {
   "cell_type": "code",
   "execution_count": 4,
   "metadata": {
    "collapsed": true
   },
   "outputs": [],
   "source": [
    "class Rectangle :\n",
    "    ''' To find out the area of Rectangle'''\n",
    "    \n",
    "    # Constructor\n",
    "    def __init__(self, length, width):\n",
    "        self.x = length\n",
    "        self.y = width\n",
    "        \n",
    "    def area(self):\n",
    "        print(\"area = \", self.x*self.y)"
   ]
  },
  {
   "cell_type": "code",
   "execution_count": 6,
   "metadata": {},
   "outputs": [
    {
     "name": "stdout",
     "output_type": "stream",
     "text": [
      "area =  12\n"
     ]
    }
   ],
   "source": [
    "r = Rectangle(3,4)\n",
    "r.area()"
   ]
  },
  {
   "cell_type": "code",
   "execution_count": null,
   "metadata": {
    "collapsed": true
   },
   "outputs": [],
   "source": [
    "class Shape:\n",
    "    '''Parent Class'''\n",
    "    def __init__(self):\n",
    "        \n",
    "    def area(self):\n",
    "        \n",
    "class Square(Shape):\n",
    "    '''Derived Class'''\n",
    "    def __init__(self):\n",
    "        \n",
    "        \n",
    "    def init(self, length):\n",
    "        \n",
    "    def area(self)"
   ]
  }
 ],
 "metadata": {
  "kernelspec": {
   "display_name": "Python 3",
   "language": "python",
   "name": "python3"
  },
  "language_info": {
   "codemirror_mode": {
    "name": "ipython",
    "version": 3
   },
   "file_extension": ".py",
   "mimetype": "text/x-python",
   "name": "python",
   "nbconvert_exporter": "python",
   "pygments_lexer": "ipython3",
   "version": "3.6.2"
  }
 },
 "nbformat": 4,
 "nbformat_minor": 2
}
