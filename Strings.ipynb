{
 "cells": [
  {
   "cell_type": "markdown",
   "metadata": {},
   "source": [
    "# Strings"
   ]
  },
  {
   "cell_type": "markdown",
   "metadata": {},
   "source": [
    "### Multi Word String (Ques 12)"
   ]
  },
  {
   "cell_type": "code",
   "execution_count": null,
   "metadata": {
    "collapsed": true
   },
   "outputs": [],
   "source": [
    "# taking user input string\n",
    "str1 = input(\"Enter a multi word string.\\n\")\n",
    "\n",
    "# splitting it into words\n",
    "str2 = str1.split()\n",
    "\n",
    "# sorting the words alphabetically\n",
    "sorted (str2)"
   ]
  },
  {
   "cell_type": "markdown",
   "metadata": {},
   "source": [
    "### Remove punctuation (Ques 13)"
   ]
  },
  {
   "cell_type": "code",
   "execution_count": 12,
   "metadata": {},
   "outputs": [
    {
     "name": "stdout",
     "output_type": "stream",
     "text": [
      "Enter the string with punctuations.\n",
      "#%^^ hello\n",
      " hello"
     ]
    }
   ],
   "source": [
    "\n",
    "inp = input(\"Enter the string with punctuations.\\n\")\n",
    "\n",
    "punct=\"!()-[]{};:'\\\"\\,<>./?@#$%^&*_~\"       # taking a string containing all punctuations\n",
    " \n",
    "for i in inp:\n",
    "    \n",
    "    if (i in punct):                    # if string character is in punctuations string print nothing\n",
    "        print(\"\",end=\"\")\n",
    "    \n",
    "    else:\n",
    "        print(i,end=\"\")\n",
    "        "
   ]
  },
  {
   "cell_type": "markdown",
   "metadata": {
    "collapsed": true
   },
   "source": [
    "### Pangram (Ques 14)"
   ]
  },
  {
   "cell_type": "code",
   "execution_count": 11,
   "metadata": {},
   "outputs": [
    {
     "name": "stdout",
     "output_type": "stream",
     "text": [
      "Enter the string to checkiam a good guy\n",
      "The number is not a pragram\n"
     ]
    }
   ],
   "source": [
    "inp = input(\"Enter the string to check\\n\")\n",
    "\n",
    "sample = \"abcdefghijklmnopqrstuvwxyz\"     # taking a string with all alphabets\n",
    "\n",
    "check = inp.lower()                       # converting whole input string to lower\n",
    "\n",
    "new = \"\"                                  # taking empty string to increment\n",
    "\n",
    "for i in sample:\n",
    "    \n",
    "    if(i in check):                  # if user input contains the alphabet from sample string increment the count\n",
    "        new = new+i\n",
    "    \n",
    "    \n",
    "if (len(new) == len(sample)):                # if length of new string and sample string is same its a pragram\n",
    "    print(\"The number is a pragram\")\n",
    "\n",
    "else:\n",
    "    print(\"The number is not a pragram\")\n",
    "\n",
    "    \n"
   ]
  },
  {
   "cell_type": "markdown",
   "metadata": {},
   "source": [
    "### Acronym (Ques 15)"
   ]
  },
  {
   "cell_type": "code",
   "execution_count": 12,
   "metadata": {},
   "outputs": [
    {
     "name": "stdout",
     "output_type": "stream",
     "text": [
      "Please enter a phrase.\n",
      "gnu is not unix\n",
      "GINU\n"
     ]
    }
   ],
   "source": [
    "inp = input(\"Please enter a phrase.\\n\")\n",
    "\n",
    "itr = inp.split()          # creating a  iterator list with words from input\n",
    "\n",
    "new = \"\"                   \n",
    "\n",
    "for i in itr:              \n",
    "    new=new+i[0]              # adding first character of the string from every elemt of list\n",
    "    \n",
    "output = new.upper()           # creating new string to upper case\n",
    "\n",
    "print(output)\n",
    "    "
   ]
  },
  {
   "cell_type": "markdown",
   "metadata": {},
   "source": [
    "## Additional Exercises"
   ]
  },
  {
   "cell_type": "markdown",
   "metadata": {},
   "source": [
    "### (A)"
   ]
  },
  {
   "cell_type": "code",
   "execution_count": 12,
   "metadata": {},
   "outputs": [
    {
     "name": "stdout",
     "output_type": "stream",
     "text": [
      "Enter a single word.\n",
      "good\n",
      "good\n",
      " \n"
     ]
    }
   ],
   "source": [
    "inp = input(\"Enter a single word.\\n\")\n",
    "\n",
    "if (len(inp) > 2):               \n",
    "    print(inp[0:2] + inp[-2:])        # taking first two and last two words\n",
    "\n",
    "if (len(inp) == 2):\n",
    "    print(inp*2)                 # if only two words are given repeat them\n",
    "\n",
    "else:\n",
    "    print(\" \")"
   ]
  },
  {
   "cell_type": "markdown",
   "metadata": {},
   "source": [
    "### (B)"
   ]
  },
  {
   "cell_type": "code",
   "execution_count": 5,
   "metadata": {},
   "outputs": [
    {
     "name": "stdout",
     "output_type": "stream",
     "text": [
      "Enter a string\n",
      "the movie is not poor by the way\n",
      "the movie is good by the way\n"
     ]
    }
   ],
   "source": [
    "inp = input(\"Enter a string\\n\")\n",
    "\n",
    "inot = inp.find('not')          # index of 'not' word\n",
    "\n",
    "ipoor = inp.find('poor')         # index of 'poor' word\n",
    "\n",
    "if (inot < ipoor):             # if 'not' occurs before 'poor'\n",
    "    \n",
    "    new = inp.replace(inp[inot:ipoor+4],'good')                # replace the phrase from not to poor with good\n",
    "    print(new)\n",
    "\n",
    "else:\n",
    "    print(\"String is not good\")"
   ]
  },
  {
   "cell_type": "markdown",
   "metadata": {},
   "source": [
    "### (C) "
   ]
  },
  {
   "cell_type": "code",
   "execution_count": 8,
   "metadata": {},
   "outputs": [
    {
     "name": "stdout",
     "output_type": "stream",
     "text": [
      "Please input a stringrestart\n",
      "resta$t\n"
     ]
    }
   ],
   "source": [
    "inp = input(\"Please input a string\")\n",
    "\n",
    "program = inp[0]+inp[1:].replace(inp[0],'$')  #keep first character as it is and replace the instance of first word\n",
    "\n",
    "print(program)"
   ]
  }
 ],
 "metadata": {
  "kernelspec": {
   "display_name": "Python 3",
   "language": "python",
   "name": "python3"
  },
  "language_info": {
   "codemirror_mode": {
    "name": "ipython",
    "version": 3
   },
   "file_extension": ".py",
   "mimetype": "text/x-python",
   "name": "python",
   "nbconvert_exporter": "python",
   "pygments_lexer": "ipython3",
   "version": "3.6.2"
  }
 },
 "nbformat": 4,
 "nbformat_minor": 2
}
