{
 "cells": [
  {
   "cell_type": "markdown",
   "metadata": {},
   "source": [
    "## Assignment 1"
   ]
  },
  {
   "cell_type": "markdown",
   "metadata": {},
   "source": [
    "### 1. Using Format"
   ]
  },
  {
   "cell_type": "code",
   "execution_count": null,
   "metadata": {
    "collapsed": true
   },
   "outputs": [],
   "source": [
    "print(format(4567.3456, '.3f'))\n",
    "\n",
    "print(format(0.00000046004, '.3f'))\n",
    "\n",
    "print(format(5000402.000000000006, '.3f'))"
   ]
  },
  {
   "cell_type": "markdown",
   "metadata": {},
   "source": [
    "### 2. Printing on different lines"
   ]
  },
  {
   "cell_type": "code",
   "execution_count": null,
   "metadata": {
    "collapsed": true
   },
   "outputs": [],
   "source": [
    "print(\"CDAC\\nOld Madras Road\\nBangalore\")"
   ]
  },
  {
   "cell_type": "markdown",
   "metadata": {},
   "source": [
    "### 3. Checking ids"
   ]
  },
  {
   "cell_type": "code",
   "execution_count": null,
   "metadata": {
    "collapsed": true
   },
   "outputs": [],
   "source": [
    "num = 5\n",
    "k = 5\n",
    "\n",
    "num1 = num + k * 2\n",
    "num2 = num + k * 2\n",
    "\n",
    "print(id(num1))\n",
    "print(id(num2))"
   ]
  },
  {
   "cell_type": "markdown",
   "metadata": {},
   "source": [
    "### 4. Operator Precedence"
   ]
  },
  {
   "cell_type": "code",
   "execution_count": null,
   "metadata": {
    "collapsed": true
   },
   "outputs": [],
   "source": [
    "var1 = 10\n",
    "var2 = 30\n",
    "var3 = 2\n",
    "\n",
    "var1 - 6 ** 4 * var2 ** 3\n",
    "\n",
    "var1 // var2 / var3\n",
    "\n",
    "var1 * var2 / 4 // var3"
   ]
  },
  {
   "cell_type": "markdown",
   "metadata": {},
   "source": [
    "### 5. Unicoding"
   ]
  },
  {
   "cell_type": "code",
   "execution_count": 3,
   "metadata": {},
   "outputs": [
    {
     "name": "stdout",
     "output_type": "stream",
     "text": [
      "Enter a character: a\n",
      "Correspoding Unicode encoding:  97\n"
     ]
    }
   ],
   "source": [
    "read = input(\"Enter a character: \")\n",
    "\n",
    "print(\"Correspoding Unicode encoding: \", ord(read))    # using ord() function"
   ]
  },
  {
   "cell_type": "markdown",
   "metadata": {},
   "source": [
    "### 6. Average breath rate of people"
   ]
  },
  {
   "cell_type": "code",
   "execution_count": null,
   "metadata": {
    "collapsed": true
   },
   "outputs": [],
   "source": [
    "age = int(input(\"Enter the age: \"))\n",
    "\n",
    "minute = 365.25*24*60            # converting age into minutes\n",
    "\n",
    "infant = 45*minute*age\n",
    "child = 25*minute*(age-1)\n",
    "teen = 20*minute*(age-4)\n",
    "adult = 16*minute*(age-14)\n",
    "\n",
    "if age<=1:                             # for infant\n",
    "    bpm = infant\n",
    "    \n",
    "if age>1 and age<=4:                   # for child\n",
    "    bpm = infant+child\n",
    "\n",
    "if age>4 and age<=14:                   # for teen\n",
    "    bpm = infant + child + teen\n",
    "\n",
    "if age>14:\n",
    "    bpm = infant + child + teen + adult        # for adult\n",
    "\n",
    "print(\"\\nBreaths per Minute = \", bpm)\n",
    "print(\"Beats per Minute = \", bpm*67.5)"
   ]
  },
  {
   "cell_type": "markdown",
   "metadata": {},
   "source": [
    "## Control Structures"
   ]
  },
  {
   "cell_type": "markdown",
   "metadata": {},
   "source": [
    "### 7. Calculator"
   ]
  },
  {
   "cell_type": "code",
   "execution_count": null,
   "metadata": {
    "collapsed": true
   },
   "outputs": [],
   "source": [
    "one = int(input(\"Input first number: \"))\n",
    "two = int(input(\"Input second number: \"))\n",
    "op = input(\"Enter the typer of Operation (+,-,*,/): \")\n",
    "\n",
    "if op == '+':\n",
    "    res = one + two\n",
    "elif op == '-':\n",
    "    res = one - two\n",
    "elif op == '*':\n",
    "    res = one * two\n",
    "elif op == '/':\n",
    "    res = one / two\n",
    "else:\n",
    "    res = \"Invalid Operation\"\n",
    "\n",
    "print(\"\\nResult = \",res)"
   ]
  },
  {
   "cell_type": "markdown",
   "metadata": {},
   "source": [
    "### 8. Table of a given number"
   ]
  },
  {
   "cell_type": "code",
   "execution_count": null,
   "metadata": {
    "collapsed": true
   },
   "outputs": [],
   "source": [
    "num = int(input(\"Enter a number to print it's table: \"))\n",
    "\n",
    "for i in range(1,11):\n",
    "    print(num, \"x\", format(i, '2'), \" = \", format(num*i, '2'))"
   ]
  },
  {
   "cell_type": "markdown",
   "metadata": {},
   "source": [
    "### 9. Perfect or not"
   ]
  },
  {
   "cell_type": "code",
   "execution_count": null,
   "metadata": {
    "collapsed": true
   },
   "outputs": [],
   "source": [
    "num = int(input(\"Enter a number: \"))\n",
    "add = 0\n",
    "\n",
    "for i in range(1,num):\n",
    "    if num%i == 0:\n",
    "        add+=i\n",
    "\n",
    "if add == num:\n",
    "    print(\"Perfect Number\")\n",
    "    \n",
    "else:\n",
    "    print(\"Imperfect Number\")"
   ]
  },
  {
   "cell_type": "markdown",
   "metadata": {},
   "source": [
    "### 10. Expansion as sum of two prime numbers"
   ]
  },
  {
   "cell_type": "markdown",
   "metadata": {},
   "source": [
    "##### Prime or not"
   ]
  },
  {
   "cell_type": "code",
   "execution_count": null,
   "metadata": {
    "collapsed": true
   },
   "outputs": [],
   "source": [
    "def prime(num):\n",
    "    ''' Function for checking if a number is prime or not'''\n",
    "    flag = 0\n",
    "    if num==2:\n",
    "        return(0)\n",
    "    else:\n",
    "        for i in range(2,num):\n",
    "            if num%i == 0:\n",
    "                flag = 1\n",
    "                break\n",
    "            else:\n",
    "                flag = 0\n",
    "        if flag == 1:\n",
    "            return 1\n",
    "        else:\n",
    "            return 0"
   ]
  },
  {
   "cell_type": "markdown",
   "metadata": {},
   "source": [
    "##### Main Code"
   ]
  },
  {
   "cell_type": "code",
   "execution_count": null,
   "metadata": {
    "collapsed": true
   },
   "outputs": [],
   "source": [
    "num = int(input(\"Enter a number to check: \"))\n",
    "for i in range(2, num):\n",
    "    \n",
    "    if prime(i) == 0:      # checking if i is prime using above function\n",
    "        \n",
    "        if prime(num-i) == 0 and num-i != 1:                              # checking if given number - i is prime\n",
    "            \n",
    "            print(\"First pair:\\n\", i,\" + \",num-i, \" = \", num)\n",
    "            print(\"The number can be expanded.\")                   # if both are prime number can be sum of primes\n",
    "            break\n",
    "            \n",
    "        \n",
    "        elif(i>num/2):\n",
    "            print(\"The number can not be expanded\")\n",
    "            break"
   ]
  },
  {
   "cell_type": "markdown",
   "metadata": {},
   "source": [
    "### 11. Printing a triangle"
   ]
  },
  {
   "cell_type": "code",
   "execution_count": null,
   "metadata": {
    "collapsed": true
   },
   "outputs": [],
   "source": [
    "row = int(input(\"Enter the number of rows: \"))\n",
    "\n",
    "for i in range(1,row+1):\n",
    "    print(' '*(row-i), end = \"\")   # adding blank spaces\n",
    "    \n",
    "    for j in range(i+1,1,-1):\n",
    "        print(j-2, end = \"\")        # printing left hand side numbers\n",
    "        \n",
    "    for j in range(1,i):\n",
    "        print(j, end = \"\")           # printing right hand side numbers\n",
    "        \n",
    "    print()"
   ]
  },
  {
   "cell_type": "markdown",
   "metadata": {},
   "source": [
    "### Additional Exercise"
   ]
  },
  {
   "cell_type": "markdown",
   "metadata": {},
   "source": [
    "#### a) Printing histogram"
   ]
  },
  {
   "cell_type": "code",
   "execution_count": 1,
   "metadata": {},
   "outputs": [
    {
     "name": "stdout",
     "output_type": "stream",
     "text": [
      "Input three numbers:\n",
      "5\n",
      "9\n",
      "8\n",
      "\n",
      "*****\n",
      "*********\n",
      "********\n"
     ]
    }
   ],
   "source": [
    "h1, h2, h3 = int(input(\"Input three numbers:\\n\")), int(input()), int(input())\n",
    "\n",
    "print()\n",
    "\n",
    "print('*'*h1)\n",
    "print('*'*h2)\n",
    "print('*'*h3)"
   ]
  }
 ],
 "metadata": {
  "kernelspec": {
   "display_name": "Python 3",
   "language": "python",
   "name": "python3"
  },
  "language_info": {
   "codemirror_mode": {
    "name": "ipython",
    "version": 3
   },
   "file_extension": ".py",
   "mimetype": "text/x-python",
   "name": "python",
   "nbconvert_exporter": "python",
   "pygments_lexer": "ipython3",
   "version": "3.6.2"
  }
 },
 "nbformat": 4,
 "nbformat_minor": 2
}
